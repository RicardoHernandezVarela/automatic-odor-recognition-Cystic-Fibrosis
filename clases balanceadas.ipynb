{
  "cells": [
    {
      "metadata": {
        "trusted": true
      },
      "cell_type": "code",
      "source": "import numpy as np\nimport pandas as pd\nimport matplotlib.pyplot as plt",
      "execution_count": 1,
      "outputs": []
    },
    {
      "metadata": {
        "trusted": true
      },
      "cell_type": "code",
      "source": "data = pd.read_csv('CF vs Kontrol balanced.csv', delimiter=\",\")\ndata.head()",
      "execution_count": 2,
      "outputs": [
        {
          "output_type": "execute_result",
          "execution_count": 2,
          "data": {
            "text/html": "<div>\n<style scoped>\n    .dataframe tbody tr th:only-of-type {\n        vertical-align: middle;\n    }\n\n    .dataframe tbody tr th {\n        vertical-align: top;\n    }\n\n    .dataframe thead th {\n        text-align: right;\n    }\n</style>\n<table border=\"1\" class=\"dataframe\">\n  <thead>\n    <tr style=\"text-align: right;\">\n      <th></th>\n      <th>S1</th>\n      <th>S2</th>\n      <th>S3</th>\n      <th>S4</th>\n      <th>S7</th>\n      <th>S8</th>\n      <th>S9</th>\n      <th>S10</th>\n      <th>S11</th>\n      <th>S12</th>\n      <th>...</th>\n      <th>S22</th>\n      <th>S24</th>\n      <th>S25</th>\n      <th>S26</th>\n      <th>S27</th>\n      <th>S28</th>\n      <th>S29</th>\n      <th>S30</th>\n      <th>S32</th>\n      <th>Group</th>\n    </tr>\n  </thead>\n  <tbody>\n    <tr>\n      <th>0</th>\n      <td>0.008847</td>\n      <td>0.005777</td>\n      <td>0.007742</td>\n      <td>0.004694</td>\n      <td>0.002050</td>\n      <td>0.007028</td>\n      <td>0.009050</td>\n      <td>0.004519</td>\n      <td>0.004693</td>\n      <td>0.003045</td>\n      <td>...</td>\n      <td>0.003069</td>\n      <td>0.001164</td>\n      <td>0.002823</td>\n      <td>0.013351</td>\n      <td>0.001908</td>\n      <td>0.014676</td>\n      <td>0.008997</td>\n      <td>0.003777</td>\n      <td>0.002126</td>\n      <td>CF</td>\n    </tr>\n    <tr>\n      <th>1</th>\n      <td>0.007501</td>\n      <td>0.004970</td>\n      <td>0.006339</td>\n      <td>0.003892</td>\n      <td>0.001807</td>\n      <td>0.006189</td>\n      <td>0.007795</td>\n      <td>0.003800</td>\n      <td>0.003984</td>\n      <td>0.002677</td>\n      <td>...</td>\n      <td>0.002683</td>\n      <td>0.001032</td>\n      <td>0.002448</td>\n      <td>0.011673</td>\n      <td>0.001546</td>\n      <td>0.012309</td>\n      <td>0.007705</td>\n      <td>0.003192</td>\n      <td>0.001753</td>\n      <td>CF</td>\n    </tr>\n    <tr>\n      <th>2</th>\n      <td>0.009995</td>\n      <td>0.006468</td>\n      <td>0.008471</td>\n      <td>0.005738</td>\n      <td>0.002211</td>\n      <td>0.007648</td>\n      <td>0.010144</td>\n      <td>0.004678</td>\n      <td>0.005368</td>\n      <td>0.003285</td>\n      <td>...</td>\n      <td>0.003350</td>\n      <td>0.001268</td>\n      <td>0.003089</td>\n      <td>0.014750</td>\n      <td>0.002060</td>\n      <td>0.015875</td>\n      <td>0.009962</td>\n      <td>0.004008</td>\n      <td>0.002246</td>\n      <td>CF</td>\n    </tr>\n    <tr>\n      <th>3</th>\n      <td>0.007436</td>\n      <td>0.004867</td>\n      <td>0.006335</td>\n      <td>0.003897</td>\n      <td>0.001778</td>\n      <td>0.005999</td>\n      <td>0.007560</td>\n      <td>0.003881</td>\n      <td>0.003905</td>\n      <td>0.002617</td>\n      <td>...</td>\n      <td>0.002730</td>\n      <td>0.001021</td>\n      <td>0.002485</td>\n      <td>0.011227</td>\n      <td>0.001582</td>\n      <td>0.012036</td>\n      <td>0.007522</td>\n      <td>0.003165</td>\n      <td>0.001722</td>\n      <td>CF</td>\n    </tr>\n    <tr>\n      <th>4</th>\n      <td>0.008438</td>\n      <td>0.005507</td>\n      <td>0.007142</td>\n      <td>0.004454</td>\n      <td>0.001854</td>\n      <td>0.005929</td>\n      <td>0.007964</td>\n      <td>0.003828</td>\n      <td>0.004200</td>\n      <td>0.002707</td>\n      <td>...</td>\n      <td>0.002845</td>\n      <td>0.001012</td>\n      <td>0.002566</td>\n      <td>0.011543</td>\n      <td>0.001819</td>\n      <td>0.012190</td>\n      <td>0.008062</td>\n      <td>0.003246</td>\n      <td>0.001959</td>\n      <td>CF</td>\n    </tr>\n  </tbody>\n</table>\n<p>5 rows × 29 columns</p>\n</div>",
            "text/plain": "         S1        S2        S3        S4        S7        S8        S9  \\\n0  0.008847  0.005777  0.007742  0.004694  0.002050  0.007028  0.009050   \n1  0.007501  0.004970  0.006339  0.003892  0.001807  0.006189  0.007795   \n2  0.009995  0.006468  0.008471  0.005738  0.002211  0.007648  0.010144   \n3  0.007436  0.004867  0.006335  0.003897  0.001778  0.005999  0.007560   \n4  0.008438  0.005507  0.007142  0.004454  0.001854  0.005929  0.007964   \n\n        S10       S11       S12  ...         S22       S24       S25  \\\n0  0.004519  0.004693  0.003045  ...    0.003069  0.001164  0.002823   \n1  0.003800  0.003984  0.002677  ...    0.002683  0.001032  0.002448   \n2  0.004678  0.005368  0.003285  ...    0.003350  0.001268  0.003089   \n3  0.003881  0.003905  0.002617  ...    0.002730  0.001021  0.002485   \n4  0.003828  0.004200  0.002707  ...    0.002845  0.001012  0.002566   \n\n        S26       S27       S28       S29       S30       S32  Group  \n0  0.013351  0.001908  0.014676  0.008997  0.003777  0.002126     CF  \n1  0.011673  0.001546  0.012309  0.007705  0.003192  0.001753     CF  \n2  0.014750  0.002060  0.015875  0.009962  0.004008  0.002246     CF  \n3  0.011227  0.001582  0.012036  0.007522  0.003165  0.001722     CF  \n4  0.011543  0.001819  0.012190  0.008062  0.003246  0.001959     CF  \n\n[5 rows x 29 columns]"
          },
          "metadata": {}
        }
      ]
    },
    {
      "metadata": {
        "trusted": true
      },
      "cell_type": "code",
      "source": "group = data['Group']\nbreath_prints = data.iloc[:,0:28]\ngroup.value_counts()",
      "execution_count": 3,
      "outputs": [
        {
          "output_type": "execute_result",
          "execution_count": 3,
          "data": {
            "text/plain": "CF         21\nkontrol    21\nName: Group, dtype: int64"
          },
          "metadata": {}
        }
      ]
    },
    {
      "metadata": {
        "trusted": true
      },
      "cell_type": "code",
      "source": "import sklearn\nfrom sklearn import svm\nfrom sklearn.model_selection import cross_validate, cross_val_score\nfrom sklearn.metrics import confusion_matrix\n\nsvm_clf = svm.SVC(kernel='linear', C=1, gamma = 'auto')\nsvm_results = cross_validate(svm_clf, breath_prints, group, cv=10)\nsvm_results.keys()",
      "execution_count": 4,
      "outputs": [
        {
          "output_type": "execute_result",
          "execution_count": 4,
          "data": {
            "text/plain": "dict_keys(['fit_time', 'score_time', 'test_score', 'train_score'])"
          },
          "metadata": {}
        }
      ]
    },
    {
      "metadata": {
        "trusted": true
      },
      "cell_type": "code",
      "source": "svm_results['test_score'].mean()",
      "execution_count": 5,
      "outputs": [
        {
          "output_type": "execute_result",
          "execution_count": 5,
          "data": {
            "text/plain": "0.7083333333333334"
          },
          "metadata": {}
        }
      ]
    },
    {
      "metadata": {
        "trusted": true
      },
      "cell_type": "code",
      "source": "from sklearn.neighbors import KNeighborsClassifier\nKNN_mod = KNeighborsClassifier(algorithm='kd_tree', n_neighbors = 3, metric='euclidean', weights='uniform')\ns = cross_validate(KNN_mod, breath_prints, group, cv=10)\ns['test_score'].mean()",
      "execution_count": 6,
      "outputs": [
        {
          "output_type": "execute_result",
          "execution_count": 6,
          "data": {
            "text/plain": "0.825"
          },
          "metadata": {}
        }
      ]
    },
    {
      "metadata": {
        "trusted": true
      },
      "cell_type": "code",
      "source": "from sklearn.model_selection import train_test_split\nfrom sklearn.metrics import confusion_matrix, classification_report\n\nscores = []\ntarget_names = ['CF', 'Kontrol']\nfor i in range(0,10):\n    X_train, X_test, y_train, y_test = train_test_split(breath_prints, group, test_size=0.4, random_state=i)\n    KNN_mod.fit(X_train, y_train)\n    y_pred = KNN_mod.predict(X_test)\n    score = KNN_mod.score(X_test, y_test)\n    print(score)\n    print(classification_report(y_test, y_pred, target_names=target_names))\n    #print(y_pred)\n    scores.append(score)\n\nscores = pd.DataFrame(data=scores)\nscores.mean()",
      "execution_count": 8,
      "outputs": [
        {
          "output_type": "stream",
          "text": "0.7647058823529411\n              precision    recall  f1-score   support\n\n          CF       0.80      0.57      0.67         7\n     Kontrol       0.75      0.90      0.82        10\n\n   micro avg       0.76      0.76      0.76        17\n   macro avg       0.78      0.74      0.74        17\nweighted avg       0.77      0.76      0.76        17\n\n0.6470588235294118\n              precision    recall  f1-score   support\n\n          CF       0.40      1.00      0.57         4\n     Kontrol       1.00      0.54      0.70        13\n\n   micro avg       0.65      0.65      0.65        17\n   macro avg       0.70      0.77      0.64        17\nweighted avg       0.86      0.65      0.67        17\n\n0.8235294117647058\n              precision    recall  f1-score   support\n\n          CF       0.80      0.89      0.84         9\n     Kontrol       0.86      0.75      0.80         8\n\n   micro avg       0.82      0.82      0.82        17\n   macro avg       0.83      0.82      0.82        17\nweighted avg       0.83      0.82      0.82        17\n\n0.7647058823529411\n              precision    recall  f1-score   support\n\n          CF       0.83      0.62      0.71         8\n     Kontrol       0.73      0.89      0.80         9\n\n   micro avg       0.76      0.76      0.76        17\n   macro avg       0.78      0.76      0.76        17\nweighted avg       0.78      0.76      0.76        17\n\n0.7647058823529411\n              precision    recall  f1-score   support\n\n          CF       1.00      0.56      0.71         9\n     Kontrol       0.67      1.00      0.80         8\n\n   micro avg       0.76      0.76      0.76        17\n   macro avg       0.83      0.78      0.76        17\nweighted avg       0.84      0.76      0.75        17\n\n0.7647058823529411\n              precision    recall  f1-score   support\n\n          CF       0.64      1.00      0.78         7\n     Kontrol       1.00      0.60      0.75        10\n\n   micro avg       0.76      0.76      0.76        17\n   macro avg       0.82      0.80      0.76        17\nweighted avg       0.85      0.76      0.76        17\n\n0.7058823529411765\n              precision    recall  f1-score   support\n\n          CF       0.60      0.86      0.71         7\n     Kontrol       0.86      0.60      0.71        10\n\n   micro avg       0.71      0.71      0.71        17\n   macro avg       0.73      0.73      0.71        17\nweighted avg       0.75      0.71      0.71        17\n\n0.6470588235294118\n              precision    recall  f1-score   support\n\n          CF       0.62      0.62      0.62         8\n     Kontrol       0.67      0.67      0.67         9\n\n   micro avg       0.65      0.65      0.65        17\n   macro avg       0.65      0.65      0.65        17\nweighted avg       0.65      0.65      0.65        17\n\n0.7058823529411765\n              precision    recall  f1-score   support\n\n          CF       0.56      0.83      0.67         6\n     Kontrol       0.88      0.64      0.74        11\n\n   micro avg       0.71      0.71      0.71        17\n   macro avg       0.72      0.73      0.70        17\nweighted avg       0.76      0.71      0.71        17\n\n0.7058823529411765\n              precision    recall  f1-score   support\n\n          CF       0.78      0.70      0.74        10\n     Kontrol       0.62      0.71      0.67         7\n\n   micro avg       0.71      0.71      0.71        17\n   macro avg       0.70      0.71      0.70        17\nweighted avg       0.71      0.71      0.71        17\n\n",
          "name": "stdout"
        },
        {
          "output_type": "execute_result",
          "execution_count": 8,
          "data": {
            "text/plain": "0    0.729412\ndtype: float64"
          },
          "metadata": {}
        }
      ]
    },
    {
      "metadata": {
        "trusted": true
      },
      "cell_type": "code",
      "source": "3+2",
      "execution_count": null,
      "outputs": []
    },
    {
      "metadata": {
        "trusted": true
      },
      "cell_type": "code",
      "source": "",
      "execution_count": null,
      "outputs": []
    }
  ],
  "metadata": {
    "kernelspec": {
      "name": "python36",
      "display_name": "Python 3.6",
      "language": "python"
    },
    "language_info": {
      "mimetype": "text/x-python",
      "nbconvert_exporter": "python",
      "name": "python",
      "pygments_lexer": "ipython3",
      "version": "3.6.6",
      "file_extension": ".py",
      "codemirror_mode": {
        "version": 3,
        "name": "ipython"
      }
    }
  },
  "nbformat": 4,
  "nbformat_minor": 2
}