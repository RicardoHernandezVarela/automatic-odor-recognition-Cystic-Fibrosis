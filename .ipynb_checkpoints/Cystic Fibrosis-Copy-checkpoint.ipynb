{
  "cells": [
    {
      "metadata": {
        "trusted": true
      },
      "cell_type": "code",
      "source": "import statistics as st\nimport pandas as pd\nimport numpy as np\nimport matplotlib.pyplot as plt\nimport seaborn as sns",
      "execution_count": 1,
      "outputs": []
    },
    {
      "metadata": {
        "trusted": true
      },
      "cell_type": "code",
      "source": "data = pd.read_excel('S1_Data.xlsx')\ndata.head()",
      "execution_count": 72,
      "outputs": [
        {
          "output_type": "execute_result",
          "execution_count": 72,
          "data": {
            "text/html": "<div>\n<style scoped>\n    .dataframe tbody tr th:only-of-type {\n        vertical-align: middle;\n    }\n\n    .dataframe tbody tr th {\n        vertical-align: top;\n    }\n\n    .dataframe thead th {\n        text-align: right;\n    }\n</style>\n<table border=\"1\" class=\"dataframe\">\n  <thead>\n    <tr style=\"text-align: right;\">\n      <th></th>\n      <th>S1</th>\n      <th>S2</th>\n      <th>S3</th>\n      <th>S4</th>\n      <th>S5</th>\n      <th>S6</th>\n      <th>S7</th>\n      <th>S8</th>\n      <th>S9</th>\n      <th>S10</th>\n      <th>...</th>\n      <th>S25</th>\n      <th>S26</th>\n      <th>S27</th>\n      <th>S28</th>\n      <th>S29</th>\n      <th>S30</th>\n      <th>S31</th>\n      <th>S32</th>\n      <th>Group</th>\n      <th>Infectionstatus</th>\n    </tr>\n  </thead>\n  <tbody>\n    <tr>\n      <th>0</th>\n      <td>NaN</td>\n      <td>NaN</td>\n      <td>NaN</td>\n      <td>NaN</td>\n      <td>NaN</td>\n      <td>NaN</td>\n      <td>NaN</td>\n      <td>NaN</td>\n      <td>NaN</td>\n      <td>NaN</td>\n      <td>...</td>\n      <td>NaN</td>\n      <td>NaN</td>\n      <td>NaN</td>\n      <td>NaN</td>\n      <td>NaN</td>\n      <td>NaN</td>\n      <td>NaN</td>\n      <td>NaN</td>\n      <td>NaN</td>\n      <td>NaN</td>\n    </tr>\n    <tr>\n      <th>1</th>\n      <td>0.007881</td>\n      <td>0.005264</td>\n      <td>0.006807</td>\n      <td>0.004453</td>\n      <td>0.040057</td>\n      <td>0.032877</td>\n      <td>0.001885</td>\n      <td>0.007512</td>\n      <td>0.008261</td>\n      <td>0.004195</td>\n      <td>...</td>\n      <td>0.002471</td>\n      <td>0.013017</td>\n      <td>0.001484</td>\n      <td>0.013816</td>\n      <td>0.008241</td>\n      <td>0.003292</td>\n      <td>0.052264</td>\n      <td>0.001747</td>\n      <td>CF</td>\n      <td>BM</td>\n    </tr>\n    <tr>\n      <th>2</th>\n      <td>0.008144</td>\n      <td>0.005276</td>\n      <td>0.007255</td>\n      <td>0.004267</td>\n      <td>0.036463</td>\n      <td>0.029392</td>\n      <td>0.001865</td>\n      <td>0.006289</td>\n      <td>0.008310</td>\n      <td>0.004031</td>\n      <td>...</td>\n      <td>0.002586</td>\n      <td>0.011638</td>\n      <td>0.001837</td>\n      <td>0.012939</td>\n      <td>0.008074</td>\n      <td>0.003261</td>\n      <td>0.035498</td>\n      <td>0.001897</td>\n      <td>CF</td>\n      <td>PA</td>\n    </tr>\n    <tr>\n      <th>3</th>\n      <td>0.008524</td>\n      <td>0.005178</td>\n      <td>0.007034</td>\n      <td>0.003746</td>\n      <td>0.029887</td>\n      <td>0.025915</td>\n      <td>0.001736</td>\n      <td>0.005579</td>\n      <td>0.007843</td>\n      <td>0.003468</td>\n      <td>...</td>\n      <td>0.002413</td>\n      <td>0.010494</td>\n      <td>0.001768</td>\n      <td>0.011346</td>\n      <td>0.007738</td>\n      <td>0.002928</td>\n      <td>0.032379</td>\n      <td>0.001864</td>\n      <td>CF</td>\n      <td>BM</td>\n    </tr>\n    <tr>\n      <th>4</th>\n      <td>0.009443</td>\n      <td>0.005922</td>\n      <td>0.007959</td>\n      <td>0.004593</td>\n      <td>0.042602</td>\n      <td>0.035939</td>\n      <td>0.001997</td>\n      <td>0.007263</td>\n      <td>0.009310</td>\n      <td>0.004283</td>\n      <td>...</td>\n      <td>0.002768</td>\n      <td>0.013296</td>\n      <td>0.001862</td>\n      <td>0.014219</td>\n      <td>0.009217</td>\n      <td>0.003532</td>\n      <td>0.049320</td>\n      <td>0.002006</td>\n      <td>CF</td>\n      <td>non-inf</td>\n    </tr>\n  </tbody>\n</table>\n<p>5 rows × 34 columns</p>\n</div>",
            "text/plain": "         S1        S2        S3        S4        S5        S6        S7  \\\n0       NaN       NaN       NaN       NaN       NaN       NaN       NaN   \n1  0.007881  0.005264  0.006807  0.004453  0.040057  0.032877  0.001885   \n2  0.008144  0.005276  0.007255  0.004267  0.036463  0.029392  0.001865   \n3  0.008524  0.005178  0.007034  0.003746  0.029887  0.025915  0.001736   \n4  0.009443  0.005922  0.007959  0.004593  0.042602  0.035939  0.001997   \n\n         S8        S9       S10       ...              S25       S26  \\\n0       NaN       NaN       NaN       ...              NaN       NaN   \n1  0.007512  0.008261  0.004195       ...         0.002471  0.013017   \n2  0.006289  0.008310  0.004031       ...         0.002586  0.011638   \n3  0.005579  0.007843  0.003468       ...         0.002413  0.010494   \n4  0.007263  0.009310  0.004283       ...         0.002768  0.013296   \n\n        S27       S28       S29       S30       S31       S32  Group  \\\n0       NaN       NaN       NaN       NaN       NaN       NaN    NaN   \n1  0.001484  0.013816  0.008241  0.003292  0.052264  0.001747     CF   \n2  0.001837  0.012939  0.008074  0.003261  0.035498  0.001897     CF   \n3  0.001768  0.011346  0.007738  0.002928  0.032379  0.001864     CF   \n4  0.001862  0.014219  0.009217  0.003532  0.049320  0.002006     CF   \n\n   Infectionstatus  \n0              NaN  \n1               BM  \n2               PA  \n3               BM  \n4          non-inf  \n\n[5 rows x 34 columns]"
          },
          "metadata": {}
        }
      ]
    },
    {
      "metadata": {
        "trusted": true
      },
      "cell_type": "code",
      "source": "data = data.drop([0], axis=0)\ndata = data.drop(['S5', 'S6', 'S23', 'S31'], axis=1)\ndata = data.drop(['S2', 'S3', 'S7', 'S8', 'S9', 'S10', 'S11', 'S12','S13', 'S14', 'S15', 'S16', 'S17', 'S21', 'S22', 'S24', 'S25', 'S32'], axis=1)\ndata.head()",
      "execution_count": 73,
      "outputs": [
        {
          "output_type": "execute_result",
          "execution_count": 73,
          "data": {
            "text/html": "<div>\n<style scoped>\n    .dataframe tbody tr th:only-of-type {\n        vertical-align: middle;\n    }\n\n    .dataframe tbody tr th {\n        vertical-align: top;\n    }\n\n    .dataframe thead th {\n        text-align: right;\n    }\n</style>\n<table border=\"1\" class=\"dataframe\">\n  <thead>\n    <tr style=\"text-align: right;\">\n      <th></th>\n      <th>S1</th>\n      <th>S4</th>\n      <th>S18</th>\n      <th>S19</th>\n      <th>S20</th>\n      <th>S26</th>\n      <th>S27</th>\n      <th>S28</th>\n      <th>S29</th>\n      <th>S30</th>\n      <th>Group</th>\n      <th>Infectionstatus</th>\n    </tr>\n  </thead>\n  <tbody>\n    <tr>\n      <th>1</th>\n      <td>0.007881</td>\n      <td>0.004453</td>\n      <td>0.008238</td>\n      <td>0.001752</td>\n      <td>0.013797</td>\n      <td>0.013017</td>\n      <td>0.001484</td>\n      <td>0.013816</td>\n      <td>0.008241</td>\n      <td>0.003292</td>\n      <td>CF</td>\n      <td>BM</td>\n    </tr>\n    <tr>\n      <th>2</th>\n      <td>0.008144</td>\n      <td>0.004267</td>\n      <td>0.008064</td>\n      <td>0.001956</td>\n      <td>0.012846</td>\n      <td>0.011638</td>\n      <td>0.001837</td>\n      <td>0.012939</td>\n      <td>0.008074</td>\n      <td>0.003261</td>\n      <td>CF</td>\n      <td>PA</td>\n    </tr>\n    <tr>\n      <th>3</th>\n      <td>0.008524</td>\n      <td>0.003746</td>\n      <td>0.007188</td>\n      <td>0.001886</td>\n      <td>0.011028</td>\n      <td>0.010494</td>\n      <td>0.001768</td>\n      <td>0.011346</td>\n      <td>0.007738</td>\n      <td>0.002928</td>\n      <td>CF</td>\n      <td>BM</td>\n    </tr>\n    <tr>\n      <th>4</th>\n      <td>0.009443</td>\n      <td>0.004593</td>\n      <td>0.008823</td>\n      <td>0.002166</td>\n      <td>0.014981</td>\n      <td>0.013296</td>\n      <td>0.001862</td>\n      <td>0.014219</td>\n      <td>0.009217</td>\n      <td>0.003532</td>\n      <td>CF</td>\n      <td>non-inf</td>\n    </tr>\n    <tr>\n      <th>5</th>\n      <td>0.010297</td>\n      <td>0.005134</td>\n      <td>0.009183</td>\n      <td>0.002298</td>\n      <td>0.014798</td>\n      <td>0.013661</td>\n      <td>0.002093</td>\n      <td>0.014675</td>\n      <td>0.009652</td>\n      <td>0.003662</td>\n      <td>PCD</td>\n      <td>non-inf</td>\n    </tr>\n  </tbody>\n</table>\n</div>",
            "text/plain": "         S1        S4       S18       S19       S20       S26       S27  \\\n1  0.007881  0.004453  0.008238  0.001752  0.013797  0.013017  0.001484   \n2  0.008144  0.004267  0.008064  0.001956  0.012846  0.011638  0.001837   \n3  0.008524  0.003746  0.007188  0.001886  0.011028  0.010494  0.001768   \n4  0.009443  0.004593  0.008823  0.002166  0.014981  0.013296  0.001862   \n5  0.010297  0.005134  0.009183  0.002298  0.014798  0.013661  0.002093   \n\n        S28       S29       S30 Group Infectionstatus  \n1  0.013816  0.008241  0.003292    CF              BM  \n2  0.012939  0.008074  0.003261    CF              PA  \n3  0.011346  0.007738  0.002928    CF              BM  \n4  0.014219  0.009217  0.003532    CF         non-inf  \n5  0.014675  0.009652  0.003662   PCD         non-inf  "
          },
          "metadata": {}
        }
      ]
    },
    {
      "metadata": {
        "trusted": true
      },
      "cell_type": "code",
      "source": "CF = data[data.Group == 'CF']\nPCD = data[data.Group == 'PCD']\nkontrol = data[data.Group == 'kontrol']",
      "execution_count": 74,
      "outputs": []
    },
    {
      "metadata": {
        "trusted": true
      },
      "cell_type": "code",
      "source": "",
      "execution_count": null,
      "outputs": []
    },
    {
      "metadata": {
        "trusted": true
      },
      "cell_type": "code",
      "source": "from sklearn.model_selection import cross_validate, cross_val_score\nfrom sklearn.neighbors import KNeighborsClassifier\nKNN_mod = KNeighborsClassifier(algorithm='kd_tree', n_neighbors = 3, metric='euclidean')",
      "execution_count": 75,
      "outputs": []
    },
    {
      "metadata": {
        "trusted": true
      },
      "cell_type": "code",
      "source": "from sklearn import svm\nsvm_clf = svm.SVC(kernel='linear', C=1, gamma = 'auto')",
      "execution_count": 76,
      "outputs": []
    },
    {
      "metadata": {
        "trusted": true
      },
      "cell_type": "code",
      "source": "from sklearn.ensemble import RandomForestClassifier\nrf = RandomForestClassifier(n_estimators=100, max_depth=2, random_state=0)",
      "execution_count": 77,
      "outputs": []
    },
    {
      "metadata": {
        "trusted": true
      },
      "cell_type": "code",
      "source": "scores = []\nfor i in range(0,10):\n    data_clf = pd.concat([CF.sample(21, random_state=i), kontrol])\n    group = data_clf['Group']\n    breath_prints = data_clf.iloc[:,0:10]\n    \n    clf_results = cross_validate(rf, breath_prints, group, cv=10)\n    score = clf_results['test_score'].mean()\n    \n    scores.append(score)\n\nscores = pd.DataFrame(data = scores)\nscores.mean()",
      "execution_count": 79,
      "outputs": [
        {
          "output_type": "execute_result",
          "execution_count": 79,
          "data": {
            "text/plain": "0    0.515\ndtype: float64"
          },
          "metadata": {}
        }
      ]
    },
    {
      "metadata": {
        "trusted": true
      },
      "cell_type": "code",
      "source": "data = pd.concat([CF.sample(21, random_state=712), kontrol])\ngroups = data['Group']\nbreath_prints = data.iloc[:,0:10]\ngroups.value_counts()",
      "execution_count": 82,
      "outputs": [
        {
          "output_type": "execute_result",
          "execution_count": 82,
          "data": {
            "text/plain": "kontrol    21\nCF         21\nName: Group, dtype: int64"
          },
          "metadata": {}
        }
      ]
    },
    {
      "metadata": {
        "trusted": true
      },
      "cell_type": "code",
      "source": "knn = cross_validate(KNN_mod, breath_prints, groups, cv=10)\nknn['test_score'].mean()",
      "execution_count": 83,
      "outputs": [
        {
          "output_type": "execute_result",
          "execution_count": 83,
          "data": {
            "text/plain": "0.6666666666666666"
          },
          "metadata": {}
        }
      ]
    },
    {
      "metadata": {
        "trusted": true
      },
      "cell_type": "code",
      "source": "rf_results = cross_validate(rf, breath_prints, groups, cv=10)\nrf_results['test_score'].mean()",
      "execution_count": 84,
      "outputs": [
        {
          "output_type": "execute_result",
          "execution_count": 84,
          "data": {
            "text/plain": "0.7"
          },
          "metadata": {}
        }
      ]
    },
    {
      "metadata": {
        "trusted": true
      },
      "cell_type": "code",
      "source": "from sklearn.metrics import confusion_matrix, classification_report, make_scorer",
      "execution_count": 85,
      "outputs": []
    },
    {
      "metadata": {
        "trusted": true
      },
      "cell_type": "code",
      "source": "originalclass = []\npredictedclass = []\n\n#Make our customer score\ndef classification_report_cv(y_true, y_pred):\n    originalclass.extend(y_true)\n    predictedclass.extend(y_pred)\n    print(classification_report(originalclass, predictedclass)) \n    return accuracy_score(y_true, y_pred)\n\ndef confusion_matrix_cv(y_true, y_pred):\n    originalclass.extend(y_true)\n    predictedclass.extend(y_pred)\n    print(confusion_matrix(originalclass, predictedclass)) \n    return accuracy_score(y_true, y_pred)\n\nscore = cross_val_score(rf, breath_prints, groups, cv=10, scoring=make_scorer(classification_report_cv))",
      "execution_count": 86,
      "outputs": [
        {
          "output_type": "stream",
          "text": "              precision    recall  f1-score   support\n\n          CF       0.50      0.67      0.57         3\n     kontrol       0.50      0.33      0.40         3\n\n   micro avg       0.50      0.50      0.50         6\n   macro avg       0.50      0.50      0.49         6\nweighted avg       0.50      0.50      0.49         6\n\n              precision    recall  f1-score   support\n\n          CF       0.60      0.60      0.60         5\n     kontrol       0.60      0.60      0.60         5\n\n   micro avg       0.60      0.60      0.60        10\n   macro avg       0.60      0.60      0.60        10\nweighted avg       0.60      0.60      0.60        10\n\n              precision    recall  f1-score   support\n\n          CF       0.60      0.43      0.50         7\n     kontrol       0.56      0.71      0.63         7\n\n   micro avg       0.57      0.57      0.57        14\n   macro avg       0.58      0.57      0.56        14\nweighted avg       0.58      0.57      0.56        14\n\n              precision    recall  f1-score   support\n\n          CF       0.71      0.56      0.63         9\n     kontrol       0.64      0.78      0.70         9\n\n   micro avg       0.67      0.67      0.67        18\n   macro avg       0.68      0.67      0.66        18\nweighted avg       0.68      0.67      0.66        18\n\n              precision    recall  f1-score   support\n\n          CF       0.78      0.64      0.70        11\n     kontrol       0.69      0.82      0.75        11\n\n   micro avg       0.73      0.73      0.73        22\n   macro avg       0.74      0.73      0.73        22\nweighted avg       0.74      0.73      0.73        22\n\n              precision    recall  f1-score   support\n\n          CF       0.73      0.62      0.67        13\n     kontrol       0.67      0.77      0.71        13\n\n   micro avg       0.69      0.69      0.69        26\n   macro avg       0.70      0.69      0.69        26\nweighted avg       0.70      0.69      0.69        26\n\n              precision    recall  f1-score   support\n\n          CF       0.67      0.67      0.67        15\n     kontrol       0.67      0.67      0.67        15\n\n   micro avg       0.67      0.67      0.67        30\n   macro avg       0.67      0.67      0.67        30\nweighted avg       0.67      0.67      0.67        30\n\n              precision    recall  f1-score   support\n\n          CF       0.69      0.65      0.67        17\n     kontrol       0.67      0.71      0.69        17\n\n   micro avg       0.68      0.68      0.68        34\n   macro avg       0.68      0.68      0.68        34\nweighted avg       0.68      0.68      0.68        34\n\n              precision    recall  f1-score   support\n\n          CF       0.68      0.68      0.68        19\n     kontrol       0.68      0.68      0.68        19\n\n   micro avg       0.68      0.68      0.68        38\n   macro avg       0.68      0.68      0.68        38\nweighted avg       0.68      0.68      0.68        38\n\n              precision    recall  f1-score   support\n\n          CF       0.70      0.67      0.68        21\n     kontrol       0.68      0.71      0.70        21\n\n   micro avg       0.69      0.69      0.69        42\n   macro avg       0.69      0.69      0.69        42\nweighted avg       0.69      0.69      0.69        42\n\n",
          "name": "stdout"
        }
      ]
    },
    {
      "metadata": {
        "trusted": true
      },
      "cell_type": "code",
      "source": "",
      "execution_count": null,
      "outputs": []
    }
  ],
  "metadata": {
    "kernelspec": {
      "name": "python36",
      "display_name": "Python 3.6",
      "language": "python"
    },
    "language_info": {
      "mimetype": "text/x-python",
      "nbconvert_exporter": "python",
      "name": "python",
      "pygments_lexer": "ipython3",
      "version": "3.6.6",
      "file_extension": ".py",
      "codemirror_mode": {
        "version": 3,
        "name": "ipython"
      }
    }
  },
  "nbformat": 4,
  "nbformat_minor": 2
}